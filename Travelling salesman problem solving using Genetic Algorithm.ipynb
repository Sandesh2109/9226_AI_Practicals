{
  "nbformat": 4,
  "nbformat_minor": 0,
  "metadata": {
    "colab": {
      "provenance": []
    },
    "kernelspec": {
      "name": "python3",
      "display_name": "Python 3"
    },
    "language_info": {
      "name": "python"
    }
  },
  "cells": [
    {
      "cell_type": "code",
      "execution_count": null,
      "metadata": {
        "colab": {
          "base_uri": "https://localhost:8080/"
        },
        "id": "21P6ekS83DQC",
        "outputId": "acd0947c-cee9-4e8c-a4bb-50657c5dbd0c"
      },
      "outputs": [
        {
          "output_type": "stream",
          "name": "stdout",
          "text": [
            "Best path found: [13, 16, 19, 15, 10, 7, 3, 6, 1, 5, 9, 12, 11, 18, 8, 4, 0, 2, 14, 17]\n",
            "Distance of best path: 1138.820743580615\n"
          ]
        }
      ],
      "source": [
        "import random\n",
        "import numpy as np\n",
        "\n",
        "# Set random seed for reproducibility\n",
        "random.seed(42)\n",
        "\n",
        "# Define cities and their coordinates\n",
        "cities = np.array([\n",
        "    [60, 200], [180, 200], [80, 180], [140, 180], [20, 160],\n",
        "    [100, 160], [200, 160], [140, 140], [40, 120], [100, 120],\n",
        "    [180, 100], [60, 80], [120, 80], [180, 60], [20, 40], [100, 40],\n",
        "    [200, 40], [20, 20], [60, 20], [160, 20]\n",
        "])\n",
        "\n",
        "# Define genetic algorithm parameters\n",
        "population_size = 100\n",
        "num_generations = 1000\n",
        "mutation_rate = 0.02\n",
        "\n",
        "# Define fitness function\n",
        "def calculate_fitness(individual, cities):\n",
        "    total_distance = 0\n",
        "    for i in range(len(individual) - 1):\n",
        "        city_a = individual[i]\n",
        "        city_b = individual[i+1]\n",
        "        total_distance += np.linalg.norm(cities[city_a] - cities[city_b])\n",
        "    return 1 / total_distance\n",
        "\n",
        "# Define selection function\n",
        "def selection(population):\n",
        "    fitness_values = np.array([calculate_fitness(individual, cities) for individual in population])\n",
        "    total_fitness = np.sum(fitness_values)\n",
        "    probabilities = fitness_values / total_fitness\n",
        "    selected_indices = np.random.choice(range(population_size), size=population_size, p=probabilities)\n",
        "    return [population[index] for index in selected_indices]\n",
        "\n",
        "# Define crossover function\n",
        "def crossover(parent_a, parent_b):\n",
        "    crossover_point = random.randint(1, len(parent_a) - 1)\n",
        "    child_a = parent_a[:crossover_point] + [city for city in parent_b if city not in parent_a[:crossover_point]]\n",
        "    child_b = parent_b[:crossover_point] + [city for city in parent_a if city not in parent_b[:crossover_point]]\n",
        "    return child_a, child_b\n",
        "\n",
        "# Define mutation function\n",
        "def mutation(individual):\n",
        "    if random.random() < mutation_rate:\n",
        "        index_a = random.randint(0, len(individual) - 1)\n",
        "        index_b = random.randint(0, len(individual) - 1)\n",
        "        individual[index_a], individual[index_b] = individual[index_b], individual[index_a]\n",
        "    return individual\n",
        "\n",
        "# Generate initial population\n",
        "population = [random.sample(range(len(cities)), len(cities)) for i in range(population_size)]\n",
        "\n",
        "# Main genetic algorithm loop\n",
        "for generation in range(num_generations):\n",
        "    population = selection(population)\n",
        "    offspring = []\n",
        "    for i in range(int(population_size / 2)):\n",
        "        parent_a = population[i]\n",
        "        parent_b = population[population_size - i - 1]\n",
        "        child_a, child_b = crossover(parent_a, parent_b)\n",
        "        child_a = mutation(child_a)\n",
        "        child_b = mutation(child_b)\n",
        "        offspring.append(child_a)\n",
        "        offspring.append(child_b)\n",
        "    population = offspring\n",
        "\n",
        "# Find best individual and print result\n",
        "best_individual = max(population, key=lambda individual: calculate_fitness(individual, cities))\n",
        "best_distance = 1 / calculate_fitness(best_individual, cities)\n",
        "print(\"Best path found: {}\".format(best_individual))\n",
        "print(\"Distance of best path: {}\".format(best_distance))"
      ]
    }
  ]
}