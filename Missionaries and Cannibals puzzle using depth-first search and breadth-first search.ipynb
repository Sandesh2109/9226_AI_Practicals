{
  "nbformat": 4,
  "nbformat_minor": 0,
  "metadata": {
    "colab": {
      "provenance": []
    },
    "kernelspec": {
      "name": "python3",
      "display_name": "Python 3"
    },
    "language_info": {
      "name": "python"
    }
  },
  "cells": [
    {
      "cell_type": "code",
      "execution_count": null,
      "metadata": {
        "colab": {
          "base_uri": "https://localhost:8080/"
        },
        "id": "rev60-7dX4Wh",
        "outputId": "663b2c42-eaba-47f2-ef2d-506a8e76672d"
      },
      "outputs": [
        {
          "output_type": "stream",
          "name": "stdout",
          "text": [
            "[[3, 3, 1], [2, 2, 0], [3, 2, 1], [3, 0, 0], [3, 1, 1], [1, 1, 0], [2, 2, 1], [0, 2, 0], [0, 3, 1], [0, 1, 0], [0, 2, 1], [0, 0, 0]]\n",
            "[[3, 3, 1], [2, 2, 0], [3, 2, 1], [3, 0, 0], [3, 1, 1], [1, 1, 0], [2, 2, 1], [0, 2, 0], [0, 3, 1], [0, 1, 0], [1, 1, 1], [0, 0, 0]]\n",
            "[[3, 3, 1], [3, 1, 0], [3, 2, 1], [3, 0, 0], [3, 1, 1], [1, 1, 0], [2, 2, 1], [0, 2, 0], [0, 3, 1], [0, 1, 0], [0, 2, 1], [0, 0, 0]]\n",
            "[[3, 3, 1], [3, 1, 0], [3, 2, 1], [3, 0, 0], [3, 1, 1], [1, 1, 0], [2, 2, 1], [0, 2, 0], [0, 3, 1], [0, 1, 0], [1, 1, 1], [0, 0, 0]]\n"
          ]
        }
      ],
      "source": [
        "#M #missionaries in left\n",
        "#C #cannibals in left\n",
        "# B=1left\n",
        "# B=0right\n",
        "\n",
        "def is_valid(state):\n",
        "    if(state[0]>3 or state[1]>3 or state[2]>1 or state[0]<0 or state[1]<0 or state[2]<0 or (0<state[0]<state[1]) or (0<(3-state[0])<(3-state[1]))):\n",
        "        return False\n",
        "    else:\n",
        "        return True\n",
        "\n",
        "def generate_next_states(M,C,B):\n",
        "    moves = [[1, 0, 1], [0, 1, 1], [2, 0, 1], [0, 2, 1], [1, 1, 1]]\n",
        "    valid_states = []\n",
        "    for each in moves:\n",
        "        if(B==1):next_state = [x1 - x2 for (x1, x2) in zip([M, C, B], each)]\n",
        "        else:next_state = [x1 + x2 for (x1, x2) in zip([M, C, B], each)]\n",
        "        if (is_valid(next_state)):\n",
        "            # print(next_state)\n",
        "            valid_states.append(next_state)\n",
        "    return valid_states\n",
        "solutions = []\n",
        "def find_sol(M,C,B,visited):\n",
        "    if([M,C,B]==[0,0,0]):#everyne crossed successfully\n",
        "        # print(\"Solution reached, steps: \",visited+[[0,0,0]])\n",
        "        solutions.append(visited+[[0,0,0]])\n",
        "        return True\n",
        "    elif([M,C,B] in visited):#prevent looping\n",
        "        return False\n",
        "    else:\n",
        "        visited.append([M,C,B])\n",
        "        if(B==1):#boat is in left\n",
        "            for each_s in generate_next_states(M,C,B):\n",
        "                find_sol(each_s[0],each_s[1],each_s[2],visited[:])\n",
        "        else:#boat in in right\n",
        "            for each_s in generate_next_states(M,C,B):\n",
        "                find_sol(each_s[0],each_s[1],each_s[2],visited[:])\n",
        "\n",
        "\n",
        "find_sol(3,3,1,[])\n",
        "\n",
        "solutions.sort()\n",
        "for each_sol in solutions:\n",
        "    print(each_sol)"
      ]
    },
    {
      "cell_type": "markdown",
      "source": [
        "This code is a solution to the classic Missionaries and Cannibals problem, where 3 missionaries and 3 cannibals must cross a river with a boat that can only carry two people at a time. The boat can only be manned by the missionaries or the cannibals, and the missionaries cannot be outnumbered by the cannibals on either side of the river.\n",
        "\n",
        "The code uses a depth-first search (DFS) algorithm to generate all possible combinations of people in the boat, starting with the initial state of 3 missionaries and 3 cannibals on one side of the river, and the boat on the other side.\n",
        "\n",
        "The \"is_valid\" function checks if the state (i.e., the combination of missionaries, cannibals, and the location of the boat) is valid or not. A state is considered valid if there are no more than 3 missionaries or cannibals on either side of the river, and if the number of missionaries does not become less than the number of cannibals on either side.\n",
        "\n",
        "The \"generate_next_states\" function takes in the current state and returns a list of all the valid next states that can be reached from the current state.\n",
        "\n",
        "The \"find_sol\" function is the main function that uses DFS to generate all possible combinations. It starts with the initial state and recursively calls itself to find all possible combinations of people in the boat. If a combination results in all the missionaries and cannibals on the other side of the river, the solution is considered found, and the steps to reach that solution are stored in the \"solutions\" list. The function also keeps track of all the visited states in the \"visited\" list to prevent looping.\n",
        "\n",
        "Finally, the solutions are sorted, and the steps to reach each solution are printed."
      ],
      "metadata": {
        "id": "4FaSiKmlpRto"
      }
    }
  ]
}